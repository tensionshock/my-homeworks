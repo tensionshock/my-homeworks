{
 "cells": [
  {
   "cell_type": "markdown",
   "metadata": {},
   "source": [
    "# Домашнее задание №3 оцениваемое\n",
    "\n",
    "## Задание №1\n",
    "\n",
    "Скачайте текст \"Литературных анекдотов\". Напишите функцию, которая будет читать файл, лемматизировать текст с помощью pymystem3 и записывать результат в новый файл. У функции должно бы два аргумента: путь к исходному файлу и путь к файлу с лемматизированным текстом. Вызов функции тоже должен быть прописан в решении."
   ]
  },
  {
   "cell_type": "code",
   "execution_count": 26,
   "metadata": {},
   "outputs": [],
   "source": [
    "from pymystem3 import Mystem\n",
    "\n",
    "def function(anecdotes, lem_anecdotes):\n",
    "\n",
    "    with open('literary_anecdotes.txt', 'r', encoding='utf-8') as f:\n",
    "        anec = f.read()\n",
    "    m = Mystem()\n",
    "    lem_anec = m.lemmatize(anec)\n",
    "    lem_anec = ''.join(lem_anec)\n",
    "    \n",
    "    with open('lem_anecdotes.txt', 'w', encoding='utf-8') as f:\n",
    "        f.write(lem_anec)\n",
    "        \n",
    "function('C:\\\\Users\\\\administrator\\\\python-dh-hw\\\\literary_anecdotes.txt', 'C:\\\\Users\\\\administrator\\\\python-dh-hw\\\\lem_anecdotes.txt')\n",
    "\n"
   ]
  },
  {
   "cell_type": "markdown",
   "metadata": {},
   "source": [
    "# Задание №2\n",
    "\n",
    "Очистите лемматизированный текст от стоп-слов и посчитайте ipm для оставшихся. Выведите 20 самых частотных по этому параметру слов."
   ]
  },
  {
   "cell_type": "code",
   "execution_count": 27,
   "metadata": {},
   "outputs": [
    {
     "name": "stdout",
     "output_type": "stream",
     "text": [
      "[('пушкин', 17017.01701701702), ('однажды', 14014.014014014014), ('гоголь', 13513.513513513515), ('лев', 12512.512512512514), ('толстой', 11511.511511511513), ('любить', 9509.509509509511), ('царствие', 7507.507507507507), ('тверской', 6006.006006006006), ('приходить', 5505.505505505505), ('тургенев', 5505.505505505505), ('федор', 5505.505505505505), ('переодеваться', 4504.504504504504), ('идти', 4504.504504504504), ('михайлович', 4504.504504504504), ('окно', 4004.004004004004), ('лермонтов', 4004.004004004004), ('человек', 4004.004004004004), ('тоже', 3503.5035035035035), ('становиться', 3503.5035035035035), ('бульвар', 3503.5035035035035)]\n"
     ]
    }
   ],
   "source": [
    "with open(r'lem_anecdotes.txt', 'r', encoding='utf-8') as lem_anec: \n",
    "    lem = lem_anec.read().split() \n",
    "from string import punctuation\n",
    "text = [word.strip('\\n').strip(punctuation) for word in lem if word.isalnum()] \n",
    "with open(r'rus_stopwords.txt', 'r', encoding='utf-8') as stop: \n",
    "    stop_list = [stop_words.rstrip() for stop_words in stop.readlines()] \n",
    "new_list = [word for word in text if word not in stop_list] \n",
    "counts = {} \n",
    "for word in new_list:\n",
    "    if word in counts:\n",
    "        counts[word] += 1\n",
    "    else:\n",
    "        counts[word] = 1\n",
    "items_per_million = {} \n",
    "for key, value in counts.items():\n",
    "    ipm = value / len(normalized) * 1000000\n",
    "    items_per_million[key] = ipm \n",
    "sorted_counts = sorted(items_per_million.items(), key=lambda x: x[1], reverse=True) \n",
    "print(sorted_counts[:20]) "
   ]
  },
  {
   "cell_type": "markdown",
   "metadata": {},
   "source": [
    "# Задание №3\n",
    "\n",
    "Сделайте полный морфологический разбор исходного текста. Напишите регулярное выражение, которое будет извлекать из тега только часть речи. Пройдитесь циклом по списку с разборами, который выдал pymystem3, извлекая из каждого разбора форму слова и его часть речи и записывая их в новый словарь (форма -- ключ, часть речи -- значение). Посчитайте абсолютную частоту для всех частей речи, а затем относительную частоту (абсолютная частота / длина текста в словах). Это отдельная подзадача, т.е. считать нужно не по словарю."
   ]
  },
  {
   "cell_type": "code",
   "execution_count": null,
   "metadata": {},
   "outputs": [],
   "source": []
  }
 ],
 "metadata": {
  "kernelspec": {
   "display_name": "Python 3",
   "language": "python",
   "name": "python3"
  },
  "language_info": {
   "codemirror_mode": {
    "name": "ipython",
    "version": 3
   },
   "file_extension": ".py",
   "mimetype": "text/x-python",
   "name": "python",
   "nbconvert_exporter": "python",
   "pygments_lexer": "ipython3",
   "version": "3.6.5"
  }
 },
 "nbformat": 4,
 "nbformat_minor": 2
}
